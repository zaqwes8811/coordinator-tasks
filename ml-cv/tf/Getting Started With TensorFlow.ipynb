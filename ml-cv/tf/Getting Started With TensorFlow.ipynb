{
 "cells": [
  {
   "cell_type": "code",
   "execution_count": 1,
   "metadata": {
    "collapsed": false
   },
   "outputs": [
    {
     "name": "stdout",
     "output_type": "stream",
     "text": [
      "a: Tensor(\"Placeholder:0\", dtype=float32) b: Tensor(\"Placeholder_1:0\", dtype=float32)\n",
      "[ 35.5   9.    9. ]\n",
      "[ 3.  7.]\n",
      "7.5\n",
      "[ 102.  105.]\n"
     ]
    }
   ],
   "source": [
    "\n",
    "# Attention: Hands-on TensorBoard (TensorFlow Dev Summit 2017) - naming scopes\n",
    "# Attention: не всегда возвращается ошибка\n",
    "#   Internal: failed initializing StreamExecutor for CUDA device ordinal 0: Internal: \n",
    "#   failed call to cuDevicePrimaryCtxRetain: CUDA_ERROR_OUT_OF_MEMORY; \n",
    "#   total memory reported: 18446744070441271296\n",
    "# fixme: как отдетектиь зафейленный run()?\n",
    "\n",
    "import tensorflow as tf\n",
    "# from tensorflow.python.client import device_lib\n",
    "\n",
    "# bulding comp. graph\n",
    "\n",
    "\n",
    "# running comp. graph\n",
    "sess = tf.Session(config=tf.ConfigProto(log_device_placement=True))\n",
    "\n",
    "# node1 = tf.constant(3., tf.float32)\n",
    "# node2 = tf.constant(4.)  # tf.float32 by dflt\n",
    "# print node1, node2\n",
    "# print(sess.run([node1, node2]))\n",
    "\n",
    "# node3 = tf.add(node1, node2)\n",
    "# print sess.run(node3)\n",
    "\n",
    "# const is boring - Placeholders\n",
    "a = tf.placeholder(tf.float32)#, shape=[None])\n",
    "b = tf.placeholder(tf.float32)#, shape=[None])\n",
    "\n",
    "print \"a:\", a, \"b:\", b\n",
    "\n",
    "adder_node = tf.add(a, b, name=\"adder0\")#a + b\n",
    "\n",
    "print(sess.run(adder_node, {a: [31, 9, 9], b:[4.5, 0, 0]}))\n",
    "print(sess.run(adder_node, {a: [1,3.], b: [2, 4.]}))\n",
    "\n",
    "# add_and_triple = adder_node# * 3.\n",
    "# print(sess.run(add_and_triple, {a: 3, b:4.5}))\n",
    "\n",
    "# Runs the op.\n",
    "# spec for GPU\n",
    "options = tf.RunOptions(output_partition_graphs=True)\n",
    "metadata = tf.RunMetadata()\n",
    "c_val = sess.run(adder_node, {a: 3, b:4.5}, options=options, run_metadata=metadata)\n",
    "\n",
    "# print metadata.partition_graphs\n",
    "    \n",
    "# def get_available_gpus():\n",
    "#     local_device_protos = device_lib.list_local_devices()\n",
    "#     return [x.name for x in local_device_protos if x.device_type == 'GPU']\n",
    "\n",
    "\n",
    "# [3, nan]\n",
    "a = tf.placeholder(tf.float32)\n",
    "b = tf.placeholder(tf.float32)\n",
    "adder_node = a + b  # + provides a shortcut for tf.add(a, b)\n",
    "print(sess.run(adder_node, {a: 3, b:4.5}))\n",
    "print(sess.run(adder_node, {a: [100, 99], b: [2, 6]}))\n"
   ]
  },
  {
   "cell_type": "code",
   "execution_count": 9,
   "metadata": {
    "collapsed": false
   },
   "outputs": [
    {
     "name": "stdout",
     "output_type": "stream",
     "text": [
      "a: Tensor(\"Placeholder_22:0\", dtype=float32) b: Tensor(\"Placeholder_23:0\", dtype=float32)\n",
      "[ 0.  0.  0.]\n",
      "[ 0.  0.]\n",
      "0.0\n",
      "[ 0.  0.]\n"
     ]
    }
   ],
   "source": []
  },
  {
   "cell_type": "code",
   "execution_count": null,
   "metadata": {
    "collapsed": true
   },
   "outputs": [],
   "source": []
  }
 ],
 "metadata": {
  "kernelspec": {
   "display_name": "Python 2",
   "language": "python",
   "name": "python2"
  },
  "language_info": {
   "codemirror_mode": {
    "name": "ipython",
    "version": 2
   },
   "file_extension": ".py",
   "mimetype": "text/x-python",
   "name": "python",
   "nbconvert_exporter": "python",
   "pygments_lexer": "ipython2",
   "version": "2.7.6"
  }
 },
 "nbformat": 4,
 "nbformat_minor": 2
}
